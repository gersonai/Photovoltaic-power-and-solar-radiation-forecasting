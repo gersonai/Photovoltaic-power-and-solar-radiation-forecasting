{
 "cells": [
  {
   "cell_type": "code",
   "execution_count": 1,
   "metadata": {
    "id": "FRPDuRA98qe8"
   },
   "outputs": [],
   "source": [
    "import numpy as np\n",
    "import math, time\n",
    "import pandas as pd\n",
    "from pvlib import solarposition as solar\n",
    "import datetime\n",
    "from matplotlib import pyplot as plt\n",
    "import pytz\n",
    "from skimage import draw\n",
    "from random import randint\n",
    "from tqdm import tqdm\n",
    "from proj_utils import timers as tm\n",
    "from proj_utils import load_array_from_csv as lafc\n",
    "from proj_utils import save_array_to_csv as satc"
   ]
  },
  {
   "cell_type": "code",
   "execution_count": 2,
   "metadata": {
    "colab": {
     "base_uri": "https://localhost:8080/"
    },
    "id": "BHXfSkX68BzA",
    "outputId": "864df1f0-4a28-41bd-c3eb-0ba36ceb34e8"
   },
   "outputs": [
    {
     "name": "stdout",
     "output_type": "stream",
     "text": [
      "(92975, 64, 64, 3)\n"
     ]
    }
   ],
   "source": [
    "# Loading data for initial results\n",
    "# Image size: 64x64x3\n",
    "datetime_trainval = np.load('dataset/datetime_trainval.npy', allow_pickle=True)\n",
    "images_trainval = np.load('dataset/images_trainval.npy', allow_pickle=True)\n",
    "datetime_test = np.load('dataset/datetime_test.npy', allow_pickle=True)\n",
    "images_test = np.load('dataset/images_test.npy', allow_pickle=True)\n",
    "print(images_trainval.shape)"
   ]
  },
  {
   "cell_type": "code",
   "execution_count": 3,
   "metadata": {
    "id": "OBB8gPTw1alW"
   },
   "outputs": [],
   "source": [
    "# Swapping BGR => RGB\n",
    "images_trainval = images_trainval[:,:,:,::-1]\n",
    "images_test = images_test[:,:,:,::-1]"
   ]
  },
  {
   "cell_type": "code",
   "execution_count": 4,
   "metadata": {
    "id": "w_Ipi4rzQG16"
   },
   "outputs": [],
   "source": [
    "# Returns a boolean matrix of img: a pixel is True if it is within r radius of (x,y)\n",
    "def get_circle_coordinates(img, x, y, r):\n",
    "    xx, yy = np.mgrid[:img.shape[0], :img.shape[1]]\n",
    "    circle = (xx - x) ** 2 + (yy - y) ** 2\n",
    "    circumsolar = np.logical_and(circle <= round(r**2), True)\n",
    "    return circumsolar"
   ]
  },
  {
   "cell_type": "code",
   "execution_count": 5,
   "metadata": {
    "id": "fvAKH4mCpceU"
   },
   "outputs": [],
   "source": [
    "# Coordinates for the Jen-Hsun Huang Engineering Center (location of the camera)\n",
    "LATITUDE = 37.427940\n",
    "LONGITUDE = -122.174220\n",
    "\n",
    "# Radius of camera\n",
    "R = 29\n",
    "\n",
    "# Camera deviation angle from the due north\n",
    "delta = 14\n",
    "\n",
    "# x,y coordinates of the origin\n",
    "O_x = 30\n",
    "O_y = 30\n",
    "\n",
    "# Calculate total number of pixels inside circle image\n",
    "N_PIXELS_CIRCLE = np.sum(get_circle_coordinates(images_trainval[0], O_x, O_y, R))"
   ]
  },
  {
   "cell_type": "code",
   "execution_count": 6,
   "metadata": {
    "id": "zCl5feCH7lOp"
   },
   "outputs": [],
   "source": [
    "# Calculate the NRBR (normalised red-blue ratio) of an image, pixel-by-pixel\n",
    "# The image could be flattened (pixels, channels)\n",
    "def NRBR(img):\n",
    "    if len(img.shape) == 2:\n",
    "        B = img[:,2]\n",
    "        R = img[:,0]\n",
    "    else:\n",
    "        B = img[:,:,2]\n",
    "        R = img[:,:,0]\n",
    "    \n",
    "    return (B-R)/(B+R+1e-4)"
   ]
  },
  {
   "cell_type": "code",
   "execution_count": 7,
   "metadata": {
    "id": "y7fHG0P5Dg5r"
   },
   "outputs": [],
   "source": [
    "# Calculates the number of days from the start of the year\n",
    "def day_of_year(dt):\n",
    "    return (dt - datetime.datetime(dt.year, 1, 1)).days + 1\n",
    "\n",
    "# Sun position identification algorithm\n",
    "def sun_position(img, dt):\n",
    "    d = day_of_year(dt)\n",
    "    dt_index = pd.DatetimeIndex([dt], tz=pytz.timezone('US/Pacific'))\n",
    "    # B = (360/365) * (d - 81)\n",
    "    # eot = 9.87 * math.sin(2 * math.radians(B)) - 7.53 * math.cos(math.radians(B)) - 1.5 * math.sin(math.radians(B))\n",
    "    # eot = solar.equation_of_time_spencer71(d)\n",
    "    # hour_angle = solar.hour_angle(times=dt_index, longitude=LONGITUDE, equation_of_time=eot)\n",
    "    # declination = solar.declination_spencer71(d)\n",
    "\n",
    "    # Use get_solarposition from the pvlib library\n",
    "    pos = solar.get_solarposition(dt_index, LATITUDE, LONGITUDE)\n",
    "    zenith = pos.zenith[0]\n",
    "    azimuth = pos.azimuth[0]\n",
    "    # print(zenith, azimuth)\n",
    "    \n",
    "    # zenith & azimuth in radians\n",
    "    # zenith = solar.solar_zenith_analytical(LATITUDE, hour_angle, declination)\n",
    "    # azimuth = solar.solar_azimuth_analytical(LATITUDE, hour_angle, declination, zenith)\n",
    "    # print(math.degrees(zenith), math.degrees(azimuth))\n",
    "\n",
    "    rho = zenith / 90 * R\n",
    "    theta = azimuth - delta + 90\n",
    "    \n",
    "    sun_x = round(O_x - rho * math.sin(math.radians(theta)))\n",
    "    sun_y = round(O_y + rho * math.cos(math.radians(theta)))\n",
    "\n",
    "    return sun_x, sun_y"
   ]
  },
  {
   "cell_type": "code",
   "execution_count": 8,
   "metadata": {
    "id": "KTwVTsRMEmpH"
   },
   "outputs": [],
   "source": [
    "# Load the \"Clear Sky Library\" (and identifies sun positions for all the images)\n",
    "def load_CSL():\n",
    "    # Find image indices for dates corresponding to CSL\n",
    "    date_queries = set([(5,20),(8,15),(9,23),(10,22)])\n",
    "    trainval_indices = []\n",
    "    test_indices = []\n",
    "    for i, dt in enumerate(datetime_trainval):\n",
    "        date = dt.month, dt.day\n",
    "        if date in date_queries:\n",
    "            trainval_indices.append(i)\n",
    "    for i, dt in enumerate(datetime_test):\n",
    "        date = dt.month, dt.day\n",
    "        if date in date_queries:\n",
    "            test_indices.append(i)\n",
    "    \n",
    "    # Extracting CSL images\n",
    "    tv_CSL = images_trainval[trainval_indices]\n",
    "    test_CSL = images_test[test_indices]\n",
    "    CSL = np.concatenate((tv_CSL, test_CSL), axis=0)\n",
    "    tv_CSL_dt = datetime_trainval[trainval_indices]\n",
    "    test_CSL_dt = datetime_test[test_indices]\n",
    "    CSL_datetimes = np.concatenate((tv_CSL_dt, test_CSL_dt))\n",
    "\n",
    "    # Determining solar position for each CSL image\n",
    "    sun_positions = []\n",
    "    for i, img in enumerate(CSL):\n",
    "        dt = CSL_datetimes[i]\n",
    "        sun_pos = sun_position(img, dt)\n",
    "        sun_positions.append(sun_pos)\n",
    "\n",
    "    return CSL, sun_positions\n",
    "\n",
    "CSL, CSL_sun_pos = load_CSL()\n",
    "\n",
    "# Find a clear sky image in the CSL that has the sun at position x,y\n",
    "def find_CSL(x, y):\n",
    "    # Get exact match\n",
    "    if (x,y) in CSL_sun_pos:\n",
    "        return CSL[CSL_sun_pos.index((x,y))]\n",
    "    else:\n",
    "        r = 1\n",
    "        # Search the pixels outwards\n",
    "        while r <= 10:\n",
    "            for i in range(-r, r+1):\n",
    "                for j in range(-r, r+1):\n",
    "                    if j == -r or j == r or i == -r or i == r:\n",
    "                        try:\n",
    "                            return CSL[CSL_sun_pos.index((x+i, y+j))]\n",
    "                        except:\n",
    "                            pass\n",
    "            r += 1\n",
    "    raise ValueError(f'CSL image could not be found within radius {r-1} of ({x},{y}).')"
   ]
  },
  {
   "cell_type": "code",
   "execution_count": 9,
   "metadata": {
    "id": "JWN9fmjqGkEz"
   },
   "outputs": [],
   "source": [
    "# Calculate the cloudiness (i.e. the fraction of cloud pixels in the sky)\n",
    "# Input is a boolean array: True for cloud pixels, False for sky pixels\n",
    "def calculate_cloudiness(cloud_pixels):\n",
    "    return np.sum(cloud_pixels) / N_PIXELS_CIRCLE"
   ]
  },
  {
   "cell_type": "code",
   "execution_count": 10,
   "metadata": {
    "id": "xhkBgXuD7v_0"
   },
   "outputs": [],
   "source": [
    "# Fixed Threshold Method\n",
    "def fixed_threshold(NRBR):\n",
    "    return calculate_cloudiness(NRBR <= 0.05)"
   ]
  },
  {
   "cell_type": "code",
   "execution_count": 11,
   "metadata": {
    "id": "oW-DoXY17MSk"
   },
   "outputs": [],
   "source": [
    "# modified Threshold with Background Subtraction Method\n",
    "def modified_threshold_with_BS(img, dt):\n",
    "    NRBR_original = NRBR(img)\n",
    "    sun_x, sun_y = sun_position(img, dt)\n",
    "    clear_sky = find_CSL(sun_x, sun_y)\n",
    "    delta_NRBR = np.abs(NRBR_original - NRBR(clear_sky))\n",
    "    inside_circle = get_circle_coordinates(img, O_x, O_y, R)\n",
    "    # True means cloud, False means sky (or background!)\n",
    "    cloud_pixels = np.logical_and(delta_NRBR >= 0.175, inside_circle)\n",
    "    cloudiness = calculate_cloudiness(cloud_pixels)\n",
    "\n",
    "    if cloudiness < 0.045:\n",
    "        return cloudiness\n",
    "    \n",
    "    elif cloudiness < 0.35:\n",
    "        # Pixels outside the circumsolar area\n",
    "        circumsolar = get_circle_coordinates(img, sun_x, sun_y, 7)\n",
    "        outside = ~circumsolar & inside_circle\n",
    "        NRBR_outside = NRBR(img[outside])\n",
    "        return fixed_threshold(NRBR_outside)\n",
    "    \n",
    "    else:\n",
    "        return fixed_threshold(NRBR_original)"
   ]
  },
  {
   "cell_type": "code",
   "execution_count": 12,
   "metadata": {
    "id": "QNk5CfGGLMNf"
   },
   "outputs": [
    {
     "name": "stderr",
     "output_type": "stream",
     "text": [
      "100%|██████████| 9910/9910 [02:18<00:00, 71.53it/s]"
     ]
    },
    {
     "name": "stdout",
     "output_type": "stream",
     "text": [
      "nb sunny    : 5926\n",
      "nb cloudy   : 2941\n",
      "nb overcast : 1043\n",
      "\n",
      "Tot duration: 2.31 mins\n"
     ]
    },
    {
     "name": "stderr",
     "output_type": "stream",
     "text": [
      "\n"
     ]
    }
   ],
   "source": [
    "\"\"\"\n",
    "Classify the cloudiness of an image into 3 classes (sunny, cloudy, overcast)\n",
    "or 2 classes (just sunny and cloudy). 3 classes is the default option as it was\n",
    "found to be optimal. Returns an integer between 0 and 2 and the cloudiness value.\n",
    "\"\"\"\n",
    "def cloudiness_classification(img, dt, n_classes=3):\n",
    "    sun_x, sun_y = sun_position(img, dt)\n",
    "    cloudiness = modified_threshold_with_BS(img, dt)\n",
    "    \n",
    "    if n_classes == 3:\n",
    "        if cloudiness <= 0.16:\n",
    "            return 0, cloudiness\n",
    "        elif cloudiness <= 0.595:\n",
    "            return 1, cloudiness\n",
    "        else:\n",
    "            #print(f\"cloudiness : {cloudiness}\")\n",
    "            # Sun Area Mean Pixel Intensity\n",
    "            sun_area = get_circle_coordinates(img, sun_x, sun_y, 2)\n",
    "            #print(f\"sun_area.shape : {sun_area.shape}\")\n",
    "            sun_area_pixels = img[sun_area]\n",
    "            #print(f\"sun_area_pixels.shape : {sun_area_pixels.shape}\")\n",
    "            \n",
    "            ########\n",
    "            #R,G,B = sun_area_pixels[:,:,0], sun_area_pixels[:,:,1], sun_area_pixels[:,:,2]\n",
    "            R,G,B = sun_area_pixels[::,0], sun_area_pixels[::,1], sun_area_pixels[::,2]\n",
    "            ########\n",
    "            \n",
    "            I = 0.229 * R + 0.587 * G + 0.114 * B\n",
    "            #print(f\"I: {I}\")\n",
    "            #SAMPI = np.mean(I)[0]\n",
    "            SAMPI = np.mean(I)\n",
    "            #print(f\"SAMPI: {SAMPI}\")\n",
    "    \n",
    "            #return 1, cloudiness if SAMPI >= 195 else 2, cloudiness\n",
    "            if SAMPI >= 195:\n",
    "                return 1, cloudiness\n",
    "            else:\n",
    "                return 2, cloudiness\n",
    "        \n",
    "    elif n_classes == 2:\n",
    "        #return 0, cloudiness if cloudiness <= 0.05 else 1, cloudiness\n",
    "        if cloudiness <= 0.05:\n",
    "            return 0, cloudiness\n",
    "        else:\n",
    "            return 1, cloudiness\n",
    "        \n",
    "        \n",
    "\n",
    "# images_test classification with treshold 0.16 and 0.595\n",
    "classes = ['sunny', 'cloudy', 'overcast']\n",
    "test_preds = []\n",
    "\n",
    "t0 = time.time()\n",
    "for i, img in enumerate(tqdm(images_test)):\n",
    "    dt = datetime_test[i]\n",
    "    prediction, cloudiness = cloudiness_classification(img, dt)\n",
    "    test_preds.append(classes[prediction])\n",
    "    \n",
    "test_pred_Sunny   = [pred for pred in test_preds if pred == 'sunny']\n",
    "test_pred_Cloudy  = [pred for pred in test_preds if pred == 'cloudy']\n",
    "test_pred_Overcast= [pred for pred in test_preds if pred == 'overcast']\n",
    "\n",
    "print(f\"nb sunny    : {len(test_pred_Sunny)}\")\n",
    "print(f\"nb cloudy   : {len(test_pred_Cloudy)}\")\n",
    "print(f\"nb overcast : {len(test_pred_Overcast)}\\n\")\n",
    "\n",
    "print(f\"Tot duration: {tm.to_mins(t0)} mins\")"
   ]
  },
  {
   "cell_type": "markdown",
   "metadata": {},
   "source": [
    "<div class=\"alert alert-block alert-success\">\n",
    "    <b>Note:</b>\n",
    "   paper images_test clasification: 5924(S)  2948(C)  1038(O)\n",
    "</div>"
   ]
  },
  {
   "cell_type": "code",
   "execution_count": 13,
   "metadata": {
    "scrolled": false
   },
   "outputs": [
    {
     "name": "stderr",
     "output_type": "stream",
     "text": [
      "100%|██████████| 92975/92975 [21:33<00:00, 71.88it/s]\n"
     ]
    },
    {
     "name": "stdout",
     "output_type": "stream",
     "text": [
      "nb Sunny    : 58642\n",
      "nb Cloudy   : 27762\n",
      "nb Overcast : 6571\n",
      "\n",
      "Tot duration: 21.56 mins\n"
     ]
    }
   ],
   "source": [
    "# images_trainval classification\n",
    "trainval_preds = []\n",
    "t0 = time.time()\n",
    "for i, img in enumerate(tqdm(images_trainval)):\n",
    "    dt = datetime_trainval[i]\n",
    "    prediction, cloudiness = cloudiness_classification(img, dt)\n",
    "    trainval_preds.append(classes[prediction])\n",
    "    \n",
    "pred_Sunny   = [pred for pred in trainval_preds if pred == 'sunny']\n",
    "pred_Cloudy  = [pred for pred in trainval_preds if pred == 'cloudy']\n",
    "pred_Overcast= [pred for pred in trainval_preds if pred == 'overcast']\n",
    "\n",
    "print(f\"nb Sunny    : {len(pred_Sunny)}\")\n",
    "print(f\"nb Cloudy   : {len(pred_Cloudy)}\")\n",
    "print(f\"nb Overcast : {len(pred_Overcast)}\\n\")\n",
    "\n",
    "print(f\"Tot duration: {tm.to_mins(t0)} mins\")\n",
    "\n",
    "# save the classification arrays to csv file\n",
    "satc.save_array_to_csv(trainval_preds, 'trainval_phys_3calsses', header=False, index=False)\n",
    "satc.save_array_to_csv(test_preds, 'test_phys_3calsses', header=False, index=False)"
   ]
  },
  {
   "cell_type": "code",
   "execution_count": 14,
   "metadata": {},
   "outputs": [
    {
     "name": "stdout",
     "output_type": "stream",
     "text": [
      "Success!\n"
     ]
    }
   ],
   "source": [
    "# UNIT TESTS\n",
    "\n",
    "assert len(lafc.load_array_from_csv('trainval_phys_3calsses', skip_header = False)) == 92975\n",
    "assert len(lafc.load_array_from_csv('test_phys_3calsses', skip_header = False)) == 9910\n",
    "\n",
    "print(\"Success!\")"
   ]
  }
 ],
 "metadata": {
  "colab": {
   "collapsed_sections": [],
   "name": "Photovoltaics Physical Classifier",
   "provenance": []
  },
  "kernelspec": {
   "display_name": "Python 3 (ipykernel)",
   "language": "python",
   "name": "python3"
  },
  "language_info": {
   "codemirror_mode": {
    "name": "ipython",
    "version": 3
   },
   "file_extension": ".py",
   "mimetype": "text/x-python",
   "name": "python",
   "nbconvert_exporter": "python",
   "pygments_lexer": "ipython3",
   "version": "3.8.9"
  }
 },
 "nbformat": 4,
 "nbformat_minor": 1
}
